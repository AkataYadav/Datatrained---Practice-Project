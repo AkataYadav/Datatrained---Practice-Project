{
 "cells": [
  {
   "cell_type": "markdown",
   "id": "ce89e936",
   "metadata": {},
   "source": [
    "# SALARY"
   ]
  },
  {
   "cell_type": "markdown",
   "id": "e104e11a",
   "metadata": {},
   "source": [
    "A salary is a form of periodic payment from an employer to an employee, which may be specified in an employment contract. It is contrasted with piece wages, where each job, hour or other unit is paid separately, rather than on a periodic basis. From the point of view of running a business, salary can also be viewed as the cost of acquiring and retaining human resources for running operations, and is then termed personnel expense or salary expense. In accounting, salaries are recorded in payroll accounts.\n",
    "\n",
    "Salary is a fixed amount of money or compensation paid to an employee by an employer in return for work performed. Salary is commonly paid in fixed intervals, for example, monthly payments of one-twelfth of the annual salary.\n",
    "\n",
    "Salary is typically determined by comparing market pay rates for people performing similar work in similar industries in the same region. Salary is also determined by leveling the pay rates and salary ranges established by an individual employer. Salary is also affected by the number of people available to perform the specific job in the employer's employment locale"
   ]
  },
  {
   "cell_type": "code",
   "execution_count": 1,
   "id": "9ec28524",
   "metadata": {},
   "outputs": [],
   "source": [
    "import pandas as pd\n",
    "import numpy as np"
   ]
  },
  {
   "cell_type": "code",
   "execution_count": 4,
   "id": "f8a7401f",
   "metadata": {},
   "outputs": [],
   "source": [
    "import pandas as pd\n",
    "import numpy as np\n",
    "path ='https://raw.githubusercontent.com/dsrscientist/dataset3/main/Salaries.csv'\n",
    "df = pd.read_csv(path)"
   ]
  },
  {
   "cell_type": "code",
   "execution_count": 5,
   "id": "a68ddb37",
   "metadata": {},
   "outputs": [
    {
     "data": {
      "text/html": [
       "<div>\n",
       "<style scoped>\n",
       "    .dataframe tbody tr th:only-of-type {\n",
       "        vertical-align: middle;\n",
       "    }\n",
       "\n",
       "    .dataframe tbody tr th {\n",
       "        vertical-align: top;\n",
       "    }\n",
       "\n",
       "    .dataframe thead th {\n",
       "        text-align: right;\n",
       "    }\n",
       "</style>\n",
       "<table border=\"1\" class=\"dataframe\">\n",
       "  <thead>\n",
       "    <tr style=\"text-align: right;\">\n",
       "      <th></th>\n",
       "      <th>rank</th>\n",
       "      <th>discipline</th>\n",
       "      <th>yrs.since.phd</th>\n",
       "      <th>yrs.service</th>\n",
       "      <th>sex</th>\n",
       "      <th>salary</th>\n",
       "    </tr>\n",
       "  </thead>\n",
       "  <tbody>\n",
       "    <tr>\n",
       "      <th>0</th>\n",
       "      <td>Prof</td>\n",
       "      <td>B</td>\n",
       "      <td>19</td>\n",
       "      <td>18</td>\n",
       "      <td>Male</td>\n",
       "      <td>139750</td>\n",
       "    </tr>\n",
       "    <tr>\n",
       "      <th>1</th>\n",
       "      <td>Prof</td>\n",
       "      <td>B</td>\n",
       "      <td>20</td>\n",
       "      <td>16</td>\n",
       "      <td>Male</td>\n",
       "      <td>173200</td>\n",
       "    </tr>\n",
       "    <tr>\n",
       "      <th>2</th>\n",
       "      <td>AsstProf</td>\n",
       "      <td>B</td>\n",
       "      <td>4</td>\n",
       "      <td>3</td>\n",
       "      <td>Male</td>\n",
       "      <td>79750</td>\n",
       "    </tr>\n",
       "    <tr>\n",
       "      <th>3</th>\n",
       "      <td>Prof</td>\n",
       "      <td>B</td>\n",
       "      <td>45</td>\n",
       "      <td>39</td>\n",
       "      <td>Male</td>\n",
       "      <td>115000</td>\n",
       "    </tr>\n",
       "    <tr>\n",
       "      <th>4</th>\n",
       "      <td>Prof</td>\n",
       "      <td>B</td>\n",
       "      <td>40</td>\n",
       "      <td>41</td>\n",
       "      <td>Male</td>\n",
       "      <td>141500</td>\n",
       "    </tr>\n",
       "    <tr>\n",
       "      <th>...</th>\n",
       "      <td>...</td>\n",
       "      <td>...</td>\n",
       "      <td>...</td>\n",
       "      <td>...</td>\n",
       "      <td>...</td>\n",
       "      <td>...</td>\n",
       "    </tr>\n",
       "    <tr>\n",
       "      <th>392</th>\n",
       "      <td>Prof</td>\n",
       "      <td>A</td>\n",
       "      <td>33</td>\n",
       "      <td>30</td>\n",
       "      <td>Male</td>\n",
       "      <td>103106</td>\n",
       "    </tr>\n",
       "    <tr>\n",
       "      <th>393</th>\n",
       "      <td>Prof</td>\n",
       "      <td>A</td>\n",
       "      <td>31</td>\n",
       "      <td>19</td>\n",
       "      <td>Male</td>\n",
       "      <td>150564</td>\n",
       "    </tr>\n",
       "    <tr>\n",
       "      <th>394</th>\n",
       "      <td>Prof</td>\n",
       "      <td>A</td>\n",
       "      <td>42</td>\n",
       "      <td>25</td>\n",
       "      <td>Male</td>\n",
       "      <td>101738</td>\n",
       "    </tr>\n",
       "    <tr>\n",
       "      <th>395</th>\n",
       "      <td>Prof</td>\n",
       "      <td>A</td>\n",
       "      <td>25</td>\n",
       "      <td>15</td>\n",
       "      <td>Male</td>\n",
       "      <td>95329</td>\n",
       "    </tr>\n",
       "    <tr>\n",
       "      <th>396</th>\n",
       "      <td>AsstProf</td>\n",
       "      <td>A</td>\n",
       "      <td>8</td>\n",
       "      <td>4</td>\n",
       "      <td>Male</td>\n",
       "      <td>81035</td>\n",
       "    </tr>\n",
       "  </tbody>\n",
       "</table>\n",
       "<p>397 rows × 6 columns</p>\n",
       "</div>"
      ],
      "text/plain": [
       "         rank discipline  yrs.since.phd  yrs.service   sex  salary\n",
       "0        Prof          B             19           18  Male  139750\n",
       "1        Prof          B             20           16  Male  173200\n",
       "2    AsstProf          B              4            3  Male   79750\n",
       "3        Prof          B             45           39  Male  115000\n",
       "4        Prof          B             40           41  Male  141500\n",
       "..        ...        ...            ...          ...   ...     ...\n",
       "392      Prof          A             33           30  Male  103106\n",
       "393      Prof          A             31           19  Male  150564\n",
       "394      Prof          A             42           25  Male  101738\n",
       "395      Prof          A             25           15  Male   95329\n",
       "396  AsstProf          A              8            4  Male   81035\n",
       "\n",
       "[397 rows x 6 columns]"
      ]
     },
     "execution_count": 5,
     "metadata": {},
     "output_type": "execute_result"
    }
   ],
   "source": [
    "df"
   ]
  },
  {
   "cell_type": "code",
   "execution_count": 6,
   "id": "a9a201ce",
   "metadata": {},
   "outputs": [
    {
     "data": {
      "text/plain": [
       "Index(['rank', 'discipline', 'yrs.since.phd', 'yrs.service', 'sex', 'salary'], dtype='object')"
      ]
     },
     "execution_count": 6,
     "metadata": {},
     "output_type": "execute_result"
    }
   ],
   "source": [
    "df.columns"
   ]
  },
  {
   "cell_type": "code",
   "execution_count": 7,
   "id": "a1244ad3",
   "metadata": {},
   "outputs": [
    {
     "data": {
      "text/html": [
       "<div>\n",
       "<style scoped>\n",
       "    .dataframe tbody tr th:only-of-type {\n",
       "        vertical-align: middle;\n",
       "    }\n",
       "\n",
       "    .dataframe tbody tr th {\n",
       "        vertical-align: top;\n",
       "    }\n",
       "\n",
       "    .dataframe thead th {\n",
       "        text-align: right;\n",
       "    }\n",
       "</style>\n",
       "<table border=\"1\" class=\"dataframe\">\n",
       "  <thead>\n",
       "    <tr style=\"text-align: right;\">\n",
       "      <th></th>\n",
       "      <th>rank</th>\n",
       "      <th>discipline</th>\n",
       "      <th>yrs.since.phd</th>\n",
       "      <th>yrs.service</th>\n",
       "      <th>sex</th>\n",
       "      <th>salary</th>\n",
       "    </tr>\n",
       "  </thead>\n",
       "  <tbody>\n",
       "    <tr>\n",
       "      <th>0</th>\n",
       "      <td>Prof</td>\n",
       "      <td>B</td>\n",
       "      <td>19</td>\n",
       "      <td>18</td>\n",
       "      <td>Male</td>\n",
       "      <td>139750</td>\n",
       "    </tr>\n",
       "    <tr>\n",
       "      <th>1</th>\n",
       "      <td>Prof</td>\n",
       "      <td>B</td>\n",
       "      <td>20</td>\n",
       "      <td>16</td>\n",
       "      <td>Male</td>\n",
       "      <td>173200</td>\n",
       "    </tr>\n",
       "    <tr>\n",
       "      <th>2</th>\n",
       "      <td>AsstProf</td>\n",
       "      <td>B</td>\n",
       "      <td>4</td>\n",
       "      <td>3</td>\n",
       "      <td>Male</td>\n",
       "      <td>79750</td>\n",
       "    </tr>\n",
       "    <tr>\n",
       "      <th>3</th>\n",
       "      <td>Prof</td>\n",
       "      <td>B</td>\n",
       "      <td>45</td>\n",
       "      <td>39</td>\n",
       "      <td>Male</td>\n",
       "      <td>115000</td>\n",
       "    </tr>\n",
       "    <tr>\n",
       "      <th>4</th>\n",
       "      <td>Prof</td>\n",
       "      <td>B</td>\n",
       "      <td>40</td>\n",
       "      <td>41</td>\n",
       "      <td>Male</td>\n",
       "      <td>141500</td>\n",
       "    </tr>\n",
       "  </tbody>\n",
       "</table>\n",
       "</div>"
      ],
      "text/plain": [
       "       rank discipline  yrs.since.phd  yrs.service   sex  salary\n",
       "0      Prof          B             19           18  Male  139750\n",
       "1      Prof          B             20           16  Male  173200\n",
       "2  AsstProf          B              4            3  Male   79750\n",
       "3      Prof          B             45           39  Male  115000\n",
       "4      Prof          B             40           41  Male  141500"
      ]
     },
     "execution_count": 7,
     "metadata": {},
     "output_type": "execute_result"
    }
   ],
   "source": [
    "df.head()"
   ]
  },
  {
   "cell_type": "markdown",
   "id": "cda3653e",
   "metadata": {},
   "source": [
    "# Details about the Columns"
   ]
  },
  {
   "cell_type": "markdown",
   "id": "f4c85c18",
   "metadata": {},
   "source": [
    "1. Rank..\n",
    "\n",
    "This columns shows the diffrent Designation for which PayScale is decided.\n",
    "\n",
    "2. Discipline..  \n",
    "\n",
    "This column shows the branch of knowledge, typically one studied in higher education.\n",
    "\n",
    "3. Yrs.Since.Phd    \n",
    "\n",
    "This columns shows the shows the number of years a person already has its Phd.\n",
    "\n",
    "4. Yrs.Service\n",
    "\n",
    "This Column shows the Years of Service means the total number of full years in which a Employee has been employed\n",
    "\n",
    "5. Sex\n",
    "\n",
    "This Columns show the gender category of the employee..\n",
    "\n",
    "6. Salary\n",
    "\n",
    "This Column shows the pay scale of the employee of the dataset"
   ]
  },
  {
   "cell_type": "code",
   "execution_count": 8,
   "id": "503afe02",
   "metadata": {},
   "outputs": [
    {
     "data": {
      "text/plain": [
       "rank             0\n",
       "discipline       0\n",
       "yrs.since.phd    0\n",
       "yrs.service      0\n",
       "sex              0\n",
       "salary           0\n",
       "dtype: int64"
      ]
     },
     "execution_count": 8,
     "metadata": {},
     "output_type": "execute_result"
    }
   ],
   "source": [
    "df.isnull().sum()"
   ]
  },
  {
   "cell_type": "markdown",
   "id": "9b0aff0d",
   "metadata": {},
   "source": [
    "# Transforming Datatypes of The Dataset into same format .ie. Categorical to Numerical For better Analysis"
   ]
  },
  {
   "cell_type": "code",
   "execution_count": 9,
   "id": "baa88340",
   "metadata": {},
   "outputs": [
    {
     "data": {
      "text/plain": [
       "rank             object\n",
       "discipline       object\n",
       "yrs.since.phd     int64\n",
       "yrs.service       int64\n",
       "sex              object\n",
       "salary            int64\n",
       "dtype: object"
      ]
     },
     "execution_count": 9,
     "metadata": {},
     "output_type": "execute_result"
    }
   ],
   "source": [
    "df.dtypes"
   ]
  },
  {
   "cell_type": "code",
   "execution_count": 10,
   "id": "fcd2d7c7",
   "metadata": {},
   "outputs": [],
   "source": [
    "from sklearn.preprocessing import LabelEncoder\n",
    "le =LabelEncoder()\n",
    "\n",
    "list1=['rank','discipline','sex']\n",
    "for val in list1:\n",
    "  df[val]=le.fit_transform(df[val].astype(str))"
   ]
  },
  {
   "cell_type": "code",
   "execution_count": 11,
   "id": "521cd74b",
   "metadata": {},
   "outputs": [
    {
     "data": {
      "text/html": [
       "<div>\n",
       "<style scoped>\n",
       "    .dataframe tbody tr th:only-of-type {\n",
       "        vertical-align: middle;\n",
       "    }\n",
       "\n",
       "    .dataframe tbody tr th {\n",
       "        vertical-align: top;\n",
       "    }\n",
       "\n",
       "    .dataframe thead th {\n",
       "        text-align: right;\n",
       "    }\n",
       "</style>\n",
       "<table border=\"1\" class=\"dataframe\">\n",
       "  <thead>\n",
       "    <tr style=\"text-align: right;\">\n",
       "      <th></th>\n",
       "      <th>rank</th>\n",
       "      <th>discipline</th>\n",
       "      <th>yrs.since.phd</th>\n",
       "      <th>yrs.service</th>\n",
       "      <th>sex</th>\n",
       "      <th>salary</th>\n",
       "    </tr>\n",
       "  </thead>\n",
       "  <tbody>\n",
       "    <tr>\n",
       "      <th>0</th>\n",
       "      <td>2</td>\n",
       "      <td>1</td>\n",
       "      <td>19</td>\n",
       "      <td>18</td>\n",
       "      <td>1</td>\n",
       "      <td>139750</td>\n",
       "    </tr>\n",
       "    <tr>\n",
       "      <th>1</th>\n",
       "      <td>2</td>\n",
       "      <td>1</td>\n",
       "      <td>20</td>\n",
       "      <td>16</td>\n",
       "      <td>1</td>\n",
       "      <td>173200</td>\n",
       "    </tr>\n",
       "    <tr>\n",
       "      <th>2</th>\n",
       "      <td>1</td>\n",
       "      <td>1</td>\n",
       "      <td>4</td>\n",
       "      <td>3</td>\n",
       "      <td>1</td>\n",
       "      <td>79750</td>\n",
       "    </tr>\n",
       "    <tr>\n",
       "      <th>3</th>\n",
       "      <td>2</td>\n",
       "      <td>1</td>\n",
       "      <td>45</td>\n",
       "      <td>39</td>\n",
       "      <td>1</td>\n",
       "      <td>115000</td>\n",
       "    </tr>\n",
       "    <tr>\n",
       "      <th>4</th>\n",
       "      <td>2</td>\n",
       "      <td>1</td>\n",
       "      <td>40</td>\n",
       "      <td>41</td>\n",
       "      <td>1</td>\n",
       "      <td>141500</td>\n",
       "    </tr>\n",
       "  </tbody>\n",
       "</table>\n",
       "</div>"
      ],
      "text/plain": [
       "   rank  discipline  yrs.since.phd  yrs.service  sex  salary\n",
       "0     2           1             19           18    1  139750\n",
       "1     2           1             20           16    1  173200\n",
       "2     1           1              4            3    1   79750\n",
       "3     2           1             45           39    1  115000\n",
       "4     2           1             40           41    1  141500"
      ]
     },
     "execution_count": 11,
     "metadata": {},
     "output_type": "execute_result"
    }
   ],
   "source": [
    "df.head()"
   ]
  },
  {
   "cell_type": "code",
   "execution_count": 12,
   "id": "199b5df2",
   "metadata": {},
   "outputs": [
    {
     "data": {
      "text/html": [
       "<div>\n",
       "<style scoped>\n",
       "    .dataframe tbody tr th:only-of-type {\n",
       "        vertical-align: middle;\n",
       "    }\n",
       "\n",
       "    .dataframe tbody tr th {\n",
       "        vertical-align: top;\n",
       "    }\n",
       "\n",
       "    .dataframe thead th {\n",
       "        text-align: right;\n",
       "    }\n",
       "</style>\n",
       "<table border=\"1\" class=\"dataframe\">\n",
       "  <thead>\n",
       "    <tr style=\"text-align: right;\">\n",
       "      <th></th>\n",
       "      <th>rank</th>\n",
       "      <th>discipline</th>\n",
       "      <th>yrs.since.phd</th>\n",
       "      <th>yrs.service</th>\n",
       "      <th>sex</th>\n",
       "      <th>salary</th>\n",
       "    </tr>\n",
       "  </thead>\n",
       "  <tbody>\n",
       "    <tr>\n",
       "      <th>392</th>\n",
       "      <td>2</td>\n",
       "      <td>0</td>\n",
       "      <td>33</td>\n",
       "      <td>30</td>\n",
       "      <td>1</td>\n",
       "      <td>103106</td>\n",
       "    </tr>\n",
       "    <tr>\n",
       "      <th>393</th>\n",
       "      <td>2</td>\n",
       "      <td>0</td>\n",
       "      <td>31</td>\n",
       "      <td>19</td>\n",
       "      <td>1</td>\n",
       "      <td>150564</td>\n",
       "    </tr>\n",
       "    <tr>\n",
       "      <th>394</th>\n",
       "      <td>2</td>\n",
       "      <td>0</td>\n",
       "      <td>42</td>\n",
       "      <td>25</td>\n",
       "      <td>1</td>\n",
       "      <td>101738</td>\n",
       "    </tr>\n",
       "    <tr>\n",
       "      <th>395</th>\n",
       "      <td>2</td>\n",
       "      <td>0</td>\n",
       "      <td>25</td>\n",
       "      <td>15</td>\n",
       "      <td>1</td>\n",
       "      <td>95329</td>\n",
       "    </tr>\n",
       "    <tr>\n",
       "      <th>396</th>\n",
       "      <td>1</td>\n",
       "      <td>0</td>\n",
       "      <td>8</td>\n",
       "      <td>4</td>\n",
       "      <td>1</td>\n",
       "      <td>81035</td>\n",
       "    </tr>\n",
       "  </tbody>\n",
       "</table>\n",
       "</div>"
      ],
      "text/plain": [
       "     rank  discipline  yrs.since.phd  yrs.service  sex  salary\n",
       "392     2           0             33           30    1  103106\n",
       "393     2           0             31           19    1  150564\n",
       "394     2           0             42           25    1  101738\n",
       "395     2           0             25           15    1   95329\n",
       "396     1           0              8            4    1   81035"
      ]
     },
     "execution_count": 12,
     "metadata": {},
     "output_type": "execute_result"
    }
   ],
   "source": [
    "df.tail()"
   ]
  },
  {
   "cell_type": "markdown",
   "id": "9814e0be",
   "metadata": {},
   "source": [
    "# EDA"
   ]
  },
  {
   "cell_type": "markdown",
   "id": "701d9199",
   "metadata": {},
   "source": [
    "Scatter Plot"
   ]
  },
  {
   "cell_type": "code",
   "execution_count": 13,
   "id": "2df8f078",
   "metadata": {},
   "outputs": [
    {
     "data": {
      "text/plain": [
       "<AxesSubplot:xlabel='rank', ylabel='salary'>"
      ]
     },
     "execution_count": 13,
     "metadata": {},
     "output_type": "execute_result"
    },
    {
     "data": {
      "image/png": "[encoded data removed]",
      "text/plain": [
       "<Figure size 432x288 with 1 Axes>"
      ]
     },
     "metadata": {
      "needs_background": "light"
     },
     "output_type": "display_data"
    }
   ],
   "source": [
    "import seaborn as sns\n",
    "sns.scatterplot(x=\"rank\",y=\"salary\",data=df)"
   ]
  },
  {
   "cell_type": "markdown",
   "id": "42296a26",
   "metadata": {},
   "source": [
    "We can see that the data is only concentrated in three positions which are ..\n",
    "\n",
    "1. Indicating Values for ASSOCIATE PROFESSOR..\n",
    "2. Indicating Values for ASSISTANT PROFESSOR..\n",
    "3. Indicating Values for PROFESSOR..\n",
    "\n",
    "We can also see that the no of Professors are the Max and the Min is of Asstnt Professor"
   ]
  },
  {
   "cell_type": "code",
   "execution_count": 14,
   "id": "c0347563",
   "metadata": {},
   "outputs": [
    {
     "data": {
      "text/plain": [
       "<AxesSubplot:xlabel='discipline', ylabel='salary'>"
      ]
     },
     "execution_count": 14,
     "metadata": {},
     "output_type": "execute_result"
    },
    {
     "data": {
      "image/png": "[encoded data removed]",
      "text/plain": [
       "<Figure size 432x288 with 1 Axes>"
      ]
     },
     "metadata": {
      "needs_background": "light"
     },
     "output_type": "display_data"
    }
   ],
   "source": [
    "sns.scatterplot(x=\"discipline\",y=\"salary\",data=df)"
   ]
  },
  {
   "cell_type": "code",
   "execution_count": 15,
   "id": "ccd98000",
   "metadata": {},
   "outputs": [
    {
     "data": {
      "text/plain": [
       "<AxesSubplot:xlabel='yrs.since.phd', ylabel='salary'>"
      ]
     },
     "execution_count": 15,
     "metadata": {},
     "output_type": "execute_result"
    },
    {
     "data": {
      "image/png": "[encoded data removed]",
      "text/plain": [
       "<Figure size 432x288 with 1 Axes>"
      ]
     },
     "metadata": {
      "needs_background": "light"
     },
     "output_type": "display_data"
    }
   ],
   "source": [
    "sns.scatterplot(x=\"yrs.since.phd\",y=\"salary\",data=df)"
   ]
  },
  {
   "cell_type": "markdown",
   "id": "932ecb0d",
   "metadata": {},
   "source": [
    "From the above plot we can see that the data is Linearly Coorelated and is more densly distributed betweeen the range of 2 to 45 with Gradient Ascend as no. of year increases"
   ]
  },
  {
   "cell_type": "code",
   "execution_count": 16,
   "id": "696e993f",
   "metadata": {},
   "outputs": [
    {
     "data": {
      "text/plain": [
       "<AxesSubplot:xlabel='yrs.service', ylabel='salary'>"
      ]
     },
     "execution_count": 16,
     "metadata": {},
     "output_type": "execute_result"
    },
    {
     "data": {
      "image/png": "[encoded data removed]",
      "text/plain": [
       "<Figure size 432x288 with 1 Axes>"
      ]
     },
     "metadata": {
      "needs_background": "light"
     },
     "output_type": "display_data"
    }
   ],
   "source": [
    "sns.scatterplot(x=\"yrs.service\",y=\"salary\",data=df)"
   ]
  },
  {
   "cell_type": "markdown",
   "id": "07f5ea6e",
   "metadata": {},
   "source": [
    "From the above plot we can see that the Data is densly populated in the range of 0 to 30"
   ]
  },
  {
   "cell_type": "code",
   "execution_count": 17,
   "id": "8b839573",
   "metadata": {},
   "outputs": [
    {
     "data": {
      "text/plain": [
       "<AxesSubplot:xlabel='sex', ylabel='salary'>"
      ]
     },
     "execution_count": 17,
     "metadata": {},
     "output_type": "execute_result"
    },
    {
     "data": {
      "image/png": "[encoded data removed]",
      "text/plain": [
       "<Figure size 432x288 with 1 Axes>"
      ]
     },
     "metadata": {
      "needs_background": "light"
     },
     "output_type": "display_data"
    }
   ],
   "source": [
    "sns.scatterplot(x=\"sex\",y=\"salary\",data=df)"
   ]
  },
  {
   "cell_type": "markdown",
   "id": "77f50204",
   "metadata": {},
   "source": [
    "From the above we can see that the Male (1) has the max points while Female (0) is only upto the range of 150000"
   ]
  },
  {
   "cell_type": "code",
   "execution_count": 18,
   "id": "fd53ad53",
   "metadata": {},
   "outputs": [
    {
     "data": {
      "text/plain": [
       "<seaborn.axisgrid.PairGrid at 0x2b5dc6520a0>"
      ]
     },
     "execution_count": 18,
     "metadata": {},
     "output_type": "execute_result"
    },
    {
     "data": {
      "image/png": "[encoded data removed]",
      "text/plain": [
       "<Figure size 1080x1080 with 42 Axes>"
      ]
     },
     "metadata": {
      "needs_background": "light"
     },
     "output_type": "display_data"
    }
   ],
   "source": [
    "sns.pairplot(df)"
   ]
  },
  {
   "cell_type": "markdown",
   "id": "6566cb2d",
   "metadata": {},
   "source": [
    "# Coorelation"
   ]
  },
  {
   "cell_type": "code",
   "execution_count": 19,
   "id": "ed5fb294",
   "metadata": {},
   "outputs": [
    {
     "data": {
      "text/html": [
       "<div>\n",
       "<style scoped>\n",
       "    .dataframe tbody tr th:only-of-type {\n",
       "        vertical-align: middle;\n",
       "    }\n",
       "\n",
       "    .dataframe tbody tr th {\n",
       "        vertical-align: top;\n",
       "    }\n",
       "\n",
       "    .dataframe thead th {\n",
       "        text-align: right;\n",
       "    }\n",
       "</style>\n",
       "<table border=\"1\" class=\"dataframe\">\n",
       "  <thead>\n",
       "    <tr style=\"text-align: right;\">\n",
       "      <th></th>\n",
       "      <th>rank</th>\n",
       "      <th>discipline</th>\n",
       "      <th>yrs.since.phd</th>\n",
       "      <th>yrs.service</th>\n",
       "      <th>sex</th>\n",
       "      <th>salary</th>\n",
       "    </tr>\n",
       "  </thead>\n",
       "  <tbody>\n",
       "    <tr>\n",
       "      <th>rank</th>\n",
       "      <td>1.000000</td>\n",
       "      <td>-0.086266</td>\n",
       "      <td>0.525500</td>\n",
       "      <td>0.447499</td>\n",
       "      <td>0.132492</td>\n",
       "      <td>0.522207</td>\n",
       "    </tr>\n",
       "    <tr>\n",
       "      <th>discipline</th>\n",
       "      <td>-0.086266</td>\n",
       "      <td>1.000000</td>\n",
       "      <td>-0.218087</td>\n",
       "      <td>-0.164599</td>\n",
       "      <td>0.003724</td>\n",
       "      <td>0.156084</td>\n",
       "    </tr>\n",
       "    <tr>\n",
       "      <th>yrs.since.phd</th>\n",
       "      <td>0.525500</td>\n",
       "      <td>-0.218087</td>\n",
       "      <td>1.000000</td>\n",
       "      <td>0.909649</td>\n",
       "      <td>0.148788</td>\n",
       "      <td>0.419231</td>\n",
       "    </tr>\n",
       "    <tr>\n",
       "      <th>yrs.service</th>\n",
       "      <td>0.447499</td>\n",
       "      <td>-0.164599</td>\n",
       "      <td>0.909649</td>\n",
       "      <td>1.000000</td>\n",
       "      <td>0.153740</td>\n",
       "      <td>0.334745</td>\n",
       "    </tr>\n",
       "    <tr>\n",
       "      <th>sex</th>\n",
       "      <td>0.132492</td>\n",
       "      <td>0.003724</td>\n",
       "      <td>0.148788</td>\n",
       "      <td>0.153740</td>\n",
       "      <td>1.000000</td>\n",
       "      <td>0.138610</td>\n",
       "    </tr>\n",
       "    <tr>\n",
       "      <th>salary</th>\n",
       "      <td>0.522207</td>\n",
       "      <td>0.156084</td>\n",
       "      <td>0.419231</td>\n",
       "      <td>0.334745</td>\n",
       "      <td>0.138610</td>\n",
       "      <td>1.000000</td>\n",
       "    </tr>\n",
       "  </tbody>\n",
       "</table>\n",
       "</div>"
      ],
      "text/plain": [
       "                   rank  discipline  yrs.since.phd  yrs.service       sex  \\\n",
       "rank           1.000000   -0.086266       0.525500     0.447499  0.132492   \n",
       "discipline    -0.086266    1.000000      -0.218087    -0.164599  0.003724   \n",
       "yrs.since.phd  0.525500   -0.218087       1.000000     0.909649  0.148788   \n",
       "yrs.service    0.447499   -0.164599       0.909649     1.000000  0.153740   \n",
       "sex            0.132492    0.003724       0.148788     0.153740  1.000000   \n",
       "salary         0.522207    0.156084       0.419231     0.334745  0.138610   \n",
       "\n",
       "                 salary  \n",
       "rank           0.522207  \n",
       "discipline     0.156084  \n",
       "yrs.since.phd  0.419231  \n",
       "yrs.service    0.334745  \n",
       "sex            0.138610  \n",
       "salary         1.000000  "
      ]
     },
     "execution_count": 19,
     "metadata": {},
     "output_type": "execute_result"
    }
   ],
   "source": [
    "df.corr()"
   ]
  },
  {
   "cell_type": "code",
   "execution_count": 20,
   "id": "a16f3bb3",
   "metadata": {},
   "outputs": [
    {
     "data": {
      "text/plain": [
       "sex              0.138610\n",
       "discipline       0.156084\n",
       "yrs.service      0.334745\n",
       "yrs.since.phd    0.419231\n",
       "rank             0.522207\n",
       "salary           1.000000\n",
       "Name: salary, dtype: float64"
      ]
     },
     "execution_count": 20,
     "metadata": {},
     "output_type": "execute_result"
    }
   ],
   "source": [
    "df.corr()['salary'].sort_values()"
   ]
  },
  {
   "cell_type": "code",
   "execution_count": 21,
   "id": "0d887dd7",
   "metadata": {},
   "outputs": [
    {
     "data": {
      "text/plain": [
       "<AxesSubplot:>"
      ]
     },
     "execution_count": 21,
     "metadata": {},
     "output_type": "execute_result"
    },
    {
     "data": {
      "image/png": "[encoded data removed]",
      "text/plain": [
       "<Figure size 1080x504 with 2 Axes>"
      ]
     },
     "metadata": {
      "needs_background": "light"
     },
     "output_type": "display_data"
    }
   ],
   "source": [
    "import matplotlib.pyplot as plt\n",
    "plt.figure(figsize=(15,7))\n",
    "sns.heatmap(df.corr(), annot=True, linewidths=0.5,linecolor=\"black\", fmt='.2f')"
   ]
  },
  {
   "cell_type": "markdown",
   "id": "deb70989",
   "metadata": {},
   "source": [
    "# Out Come of Correlation"
   ]
  },
  {
   "cell_type": "markdown",
   "id": "58d90491",
   "metadata": {},
   "source": [
    "All the Columns are Positively Coorelated with the Salary\n",
    "\n",
    "1. Rank has a Correlation of 52 percent with Salary which can be considered as a Strong Bond..\n",
    "\n",
    "2. Discipline has a Correlation of 16 percent with Salary which can be considered as a Good Bond..\n",
    "\n",
    "3. Yrs_since_Phd has a Correlation of 42 percent with Salary which can be considered as a strong bond..\n",
    "\n",
    "4. Yrs_Service has a Correlation of 33 percent with Salary which can be considered as a strong Bond..\n",
    "\n",
    "5. Sex has a Correlation of 14 percent with Salary which can be considered as a Good Bond..\n",
    "\n",
    "* Max Correlation - Rank\n",
    "* Min Coorelation - Sex"
   ]
  },
  {
   "cell_type": "markdown",
   "id": "68cd56ed",
   "metadata": {},
   "source": [
    "# Descriptive Statistics"
   ]
  },
  {
   "cell_type": "markdown",
   "id": "45975142",
   "metadata": {},
   "source": [
    "Describing Datasets"
   ]
  },
  {
   "cell_type": "code",
   "execution_count": 23,
   "id": "c1a03592",
   "metadata": {},
   "outputs": [
    {
     "data": {
      "text/html": [
       "<div>\n",
       "<style scoped>\n",
       "    .dataframe tbody tr th:only-of-type {\n",
       "        vertical-align: middle;\n",
       "    }\n",
       "\n",
       "    .dataframe tbody tr th {\n",
       "        vertical-align: top;\n",
       "    }\n",
       "\n",
       "    .dataframe thead th {\n",
       "        text-align: right;\n",
       "    }\n",
       "</style>\n",
       "<table border=\"1\" class=\"dataframe\">\n",
       "  <thead>\n",
       "    <tr style=\"text-align: right;\">\n",
       "      <th></th>\n",
       "      <th>rank</th>\n",
       "      <th>discipline</th>\n",
       "      <th>yrs.since.phd</th>\n",
       "      <th>yrs.service</th>\n",
       "      <th>sex</th>\n",
       "      <th>salary</th>\n",
       "    </tr>\n",
       "  </thead>\n",
       "  <tbody>\n",
       "    <tr>\n",
       "      <th>count</th>\n",
       "      <td>397.000000</td>\n",
       "      <td>397.000000</td>\n",
       "      <td>397.000000</td>\n",
       "      <td>397.000000</td>\n",
       "      <td>397.000000</td>\n",
       "      <td>397.000000</td>\n",
       "    </tr>\n",
       "    <tr>\n",
       "      <th>mean</th>\n",
       "      <td>1.508816</td>\n",
       "      <td>0.544081</td>\n",
       "      <td>22.314861</td>\n",
       "      <td>17.614610</td>\n",
       "      <td>0.901763</td>\n",
       "      <td>113706.458438</td>\n",
       "    </tr>\n",
       "    <tr>\n",
       "      <th>std</th>\n",
       "      <td>0.757486</td>\n",
       "      <td>0.498682</td>\n",
       "      <td>12.887003</td>\n",
       "      <td>13.006024</td>\n",
       "      <td>0.298010</td>\n",
       "      <td>30289.038695</td>\n",
       "    </tr>\n",
       "    <tr>\n",
       "      <th>min</th>\n",
       "      <td>0.000000</td>\n",
       "      <td>0.000000</td>\n",
       "      <td>1.000000</td>\n",
       "      <td>0.000000</td>\n",
       "      <td>0.000000</td>\n",
       "      <td>57800.000000</td>\n",
       "    </tr>\n",
       "    <tr>\n",
       "      <th>25%</th>\n",
       "      <td>1.000000</td>\n",
       "      <td>0.000000</td>\n",
       "      <td>12.000000</td>\n",
       "      <td>7.000000</td>\n",
       "      <td>1.000000</td>\n",
       "      <td>91000.000000</td>\n",
       "    </tr>\n",
       "    <tr>\n",
       "      <th>50%</th>\n",
       "      <td>2.000000</td>\n",
       "      <td>1.000000</td>\n",
       "      <td>21.000000</td>\n",
       "      <td>16.000000</td>\n",
       "      <td>1.000000</td>\n",
       "      <td>107300.000000</td>\n",
       "    </tr>\n",
       "    <tr>\n",
       "      <th>75%</th>\n",
       "      <td>2.000000</td>\n",
       "      <td>1.000000</td>\n",
       "      <td>32.000000</td>\n",
       "      <td>27.000000</td>\n",
       "      <td>1.000000</td>\n",
       "      <td>134185.000000</td>\n",
       "    </tr>\n",
       "    <tr>\n",
       "      <th>max</th>\n",
       "      <td>2.000000</td>\n",
       "      <td>1.000000</td>\n",
       "      <td>56.000000</td>\n",
       "      <td>60.000000</td>\n",
       "      <td>1.000000</td>\n",
       "      <td>231545.000000</td>\n",
       "    </tr>\n",
       "  </tbody>\n",
       "</table>\n",
       "</div>"
      ],
      "text/plain": [
       "             rank  discipline  yrs.since.phd  yrs.service         sex  \\\n",
       "count  397.000000  397.000000     397.000000   397.000000  397.000000   \n",
       "mean     1.508816    0.544081      22.314861    17.614610    0.901763   \n",
       "std      0.757486    0.498682      12.887003    13.006024    0.298010   \n",
       "min      0.000000    0.000000       1.000000     0.000000    0.000000   \n",
       "25%      1.000000    0.000000      12.000000     7.000000    1.000000   \n",
       "50%      2.000000    1.000000      21.000000    16.000000    1.000000   \n",
       "75%      2.000000    1.000000      32.000000    27.000000    1.000000   \n",
       "max      2.000000    1.000000      56.000000    60.000000    1.000000   \n",
       "\n",
       "              salary  \n",
       "count     397.000000  \n",
       "mean   113706.458438  \n",
       "std     30289.038695  \n",
       "min     57800.000000  \n",
       "25%     91000.000000  \n",
       "50%    107300.000000  \n",
       "75%    134185.000000  \n",
       "max    231545.000000  "
      ]
     },
     "execution_count": 23,
     "metadata": {},
     "output_type": "execute_result"
    }
   ],
   "source": [
    "df.describe()"
   ]
  },
  {
   "cell_type": "code",
   "execution_count": 24,
   "id": "3182507f",
   "metadata": {},
   "outputs": [
    {
     "data": {
      "text/plain": [
       "<AxesSubplot:>"
      ]
     },
     "execution_count": 24,
     "metadata": {},
     "output_type": "execute_result"
    },
    {
     "data": {
      "image/png": "[encoded data removed]",
      "text/plain": [
       "<Figure size 1080x504 with 2 Axes>"
      ]
     },
     "metadata": {
      "needs_background": "light"
     },
     "output_type": "display_data"
    }
   ],
   "source": [
    "plt.figure(figsize=(15,7))\n",
    "sns.heatmap(round(df.describe()[1:].transpose(),2), annot=True, linewidths=0.5,linecolor=\"black\", fmt='f')"
   ]
  },
  {
   "cell_type": "code",
   "execution_count": 26,
   "id": "f2412709",
   "metadata": {},
   "outputs": [
    {
     "name": "stdout",
     "output_type": "stream",
     "text": [
      "<class 'pandas.core.frame.DataFrame'>\n",
      "RangeIndex: 397 entries, 0 to 396\n",
      "Data columns (total 6 columns):\n",
      " #   Column         Non-Null Count  Dtype\n",
      "---  ------         --------------  -----\n",
      " 0   rank           397 non-null    int32\n",
      " 1   discipline     397 non-null    int32\n",
      " 2   yrs.since.phd  397 non-null    int64\n",
      " 3   yrs.service    397 non-null    int64\n",
      " 4   sex            397 non-null    int32\n",
      " 5   salary         397 non-null    int64\n",
      "dtypes: int32(3), int64(3)\n",
      "memory usage: 14.1 KB\n"
     ]
    }
   ],
   "source": [
    "df.info()"
   ]
  },
  {
   "cell_type": "markdown",
   "id": "abde8635",
   "metadata": {},
   "source": [
    "# Out Come of Describe Datasets"
   ]
  },
  {
   "cell_type": "markdown",
   "id": "6c03d6fe",
   "metadata": {},
   "source": [
    "From the above plotting we are determining mean Standard Deviation , minimum and maximum value of each column. It Helps further in data cleaning .."
   ]
  },
  {
   "cell_type": "markdown",
   "id": "d2e82059",
   "metadata": {},
   "source": [
    "From the above plotting we are determining mean Standard Deviation , minimum and maximum value of each column. It Helps further in data cleaning ..\n",
    "\n",
    "* Total Numbers of rows in the Datasets are : -\n",
    "\n",
    "\n",
    "   397 Rows\n",
    "\n",
    "   6 Columns\n",
    "\n",
    "\n",
    "* Rank : -\n",
    "\n",
    "  Mean_Value - 1.508816\n",
    "  \n",
    "  Max_Value - 2.00000\n",
    "  \n",
    "  Min_Value - 0.00000\n",
    "  \n",
    "  Std - 0.757486\n",
    "  \n",
    "  \n",
    "* Discipline : -\n",
    "\n",
    "\n",
    "  Mean_Value - 0.544081\n",
    "\n",
    "  Max_Value - 1.00000\n",
    "\n",
    "  Min_Value - 0.00000\n",
    "  \n",
    "  Std - 0.498682\n",
    "\n",
    "* Yrs.Since.Phd : -\n",
    "\n",
    "\n",
    "  Mean_Value - 22.314861\n",
    "  \n",
    "  Max_Value - 56.000000\n",
    "  \n",
    "  Min_Value - 1.000000\n",
    "  \n",
    "  Std - 12.887003\n",
    "  \n",
    "\n",
    "* Yrs.Service : -\n",
    "\n",
    "\n",
    "  Mean_Value - 17.614610\n",
    "  \n",
    "  Max_Value - 60.000000\n",
    "  \n",
    "  Min_Value - 0.000000\n",
    "  \n",
    "  Std - 13.006024\n",
    "  \n",
    "\n",
    "* Sex : -\n",
    "\n",
    "\n",
    "  Mean_Value - 0.901763\n",
    "  \n",
    "  Max_Value - 1.000000\n",
    "  \n",
    "  Min_Value - 0.000000\n",
    "  \n",
    "  Std - 0.298010\n",
    "  "
   ]
  },
  {
   "cell_type": "code",
   "execution_count": 28,
   "id": "a2c4b7d6",
   "metadata": {},
   "outputs": [
    {
     "name": "stdout",
     "output_type": "stream",
     "text": [
      "<class 'pandas.core.frame.DataFrame'>\n",
      "RangeIndex: 397 entries, 0 to 396\n",
      "Data columns (total 6 columns):\n",
      " #   Column         Non-Null Count  Dtype\n",
      "---  ------         --------------  -----\n",
      " 0   rank           397 non-null    int32\n",
      " 1   discipline     397 non-null    int32\n",
      " 2   yrs.since.phd  397 non-null    int64\n",
      " 3   yrs.service    397 non-null    int64\n",
      " 4   sex            397 non-null    int32\n",
      " 5   salary         397 non-null    int64\n",
      "dtypes: int32(3), int64(3)\n",
      "memory usage: 14.1 KB\n"
     ]
    }
   ],
   "source": [
    "df.info()"
   ]
  },
  {
   "cell_type": "markdown",
   "id": "14117994",
   "metadata": {},
   "source": [
    "From the above code we can have Columns Datatypes and the memory used by the dataframe.."
   ]
  },
  {
   "cell_type": "markdown",
   "id": "b6836f08",
   "metadata": {},
   "source": [
    "# Out Liers Checking"
   ]
  },
  {
   "cell_type": "code",
   "execution_count": 29,
   "id": "e960061e",
   "metadata": {},
   "outputs": [
    {
     "data": {
      "text/plain": [
       "rank                 AxesSubplot(0.125,0.71587;0.352273x0.16413)\n",
       "discipline        AxesSubplot(0.547727,0.71587;0.352273x0.16413)\n",
       "yrs.since.phd       AxesSubplot(0.125,0.518913;0.352273x0.16413)\n",
       "yrs.service      AxesSubplot(0.547727,0.518913;0.352273x0.16413)\n",
       "sex                 AxesSubplot(0.125,0.321957;0.352273x0.16413)\n",
       "salary           AxesSubplot(0.547727,0.321957;0.352273x0.16413)\n",
       "dtype: object"
      ]
     },
     "execution_count": 29,
     "metadata": {},
     "output_type": "execute_result"
    },
    {
     "data": {
      "image/png": "[encoded data removed]",
      "text/plain": [
       "<Figure size 432x288 with 8 Axes>"
      ]
     },
     "metadata": {
      "needs_background": "light"
     },
     "output_type": "display_data"
    }
   ],
   "source": [
    "import warnings\n",
    "warnings.filterwarnings('ignore')\n",
    "df.plot(kind='box',subplots=True, layout=(4,2))"
   ]
  },
  {
   "cell_type": "code",
   "execution_count": 30,
   "id": "8b23d572",
   "metadata": {},
   "outputs": [
    {
     "data": {
      "text/plain": [
       "<AxesSubplot:>"
      ]
     },
     "execution_count": 30,
     "metadata": {},
     "output_type": "execute_result"
    },
    {
     "data": {
      "image/png": "[encoded data removed]",
      "text/plain": [
       "<Figure size 432x288 with 1 Axes>"
      ]
     },
     "metadata": {
      "needs_background": "light"
     },
     "output_type": "display_data"
    }
   ],
   "source": [
    "df['rank'].plot.box()"
   ]
  },
  {
   "cell_type": "code",
   "execution_count": 31,
   "id": "533fabea",
   "metadata": {},
   "outputs": [
    {
     "data": {
      "text/plain": [
       "<AxesSubplot:>"
      ]
     },
     "execution_count": 31,
     "metadata": {},
     "output_type": "execute_result"
    },
    {
     "data": {
      "image/png": "[encoded data removed]",
      "text/plain": [
       "<Figure size 432x288 with 1 Axes>"
      ]
     },
     "metadata": {
      "needs_background": "light"
     },
     "output_type": "display_data"
    }
   ],
   "source": [
    "df['discipline'].plot.box()"
   ]
  },
  {
   "cell_type": "code",
   "execution_count": 32,
   "id": "94d9cb57",
   "metadata": {},
   "outputs": [
    {
     "data": {
      "text/plain": [
       "<AxesSubplot:>"
      ]
     },
     "execution_count": 32,
     "metadata": {},
     "output_type": "execute_result"
    },
    {
     "data": {
      "image/png": "[encoded data removed]",
      "text/plain": [
       "<Figure size 432x288 with 1 Axes>"
      ]
     },
     "metadata": {
      "needs_background": "light"
     },
     "output_type": "display_data"
    }
   ],
   "source": [
    "df['yrs.since.phd'].plot.box()"
   ]
  },
  {
   "cell_type": "code",
   "execution_count": 33,
   "id": "8322a1cd",
   "metadata": {},
   "outputs": [
    {
     "data": {
      "text/plain": [
       "<AxesSubplot:>"
      ]
     },
     "execution_count": 33,
     "metadata": {},
     "output_type": "execute_result"
    },
    {
     "data": {
      "image/png": "[encoded data removed]",
      "text/plain": [
       "<Figure size 432x288 with 1 Axes>"
      ]
     },
     "metadata": {
      "needs_background": "light"
     },
     "output_type": "display_data"
    }
   ],
   "source": [
    "df['yrs.service'].plot.box()"
   ]
  },
  {
   "cell_type": "code",
   "execution_count": 34,
   "id": "288c7d14",
   "metadata": {},
   "outputs": [
    {
     "data": {
      "text/plain": [
       "<AxesSubplot:>"
      ]
     },
     "execution_count": 34,
     "metadata": {},
     "output_type": "execute_result"
    },
    {
     "data": {
      "image/png": "[encoded data removed]",
      "text/plain": [
       "<Figure size 432x288 with 1 Axes>"
      ]
     },
     "metadata": {
      "needs_background": "light"
     },
     "output_type": "display_data"
    }
   ],
   "source": [
    "df['sex'].plot.box()"
   ]
  },
  {
   "cell_type": "code",
   "execution_count": 35,
   "id": "3524e411",
   "metadata": {},
   "outputs": [
    {
     "data": {
      "text/plain": [
       "<AxesSubplot:>"
      ]
     },
     "execution_count": 35,
     "metadata": {},
     "output_type": "execute_result"
    },
    {
     "data": {
      "image/png": "[encoded data removed]",
      "text/plain": [
       "<Figure size 432x288 with 1 Axes>"
      ]
     },
     "metadata": {
      "needs_background": "light"
     },
     "output_type": "display_data"
    }
   ],
   "source": [
    "df['salary'].plot.box()"
   ]
  },
  {
   "cell_type": "markdown",
   "id": "ce66c1e8",
   "metadata": {},
   "source": [
    "From the above analysis we can see that we have minimum outliers only in 2 columns that are Columns:-\n",
    "\n",
    "* Salary\n",
    "* Yrs.Service"
   ]
  },
  {
   "cell_type": "code",
   "execution_count": 36,
   "id": "84477b29",
   "metadata": {},
   "outputs": [
    {
     "data": {
      "text/plain": [
       "rank            -1.151164\n",
       "discipline      -0.177684\n",
       "yrs.since.phd    0.300880\n",
       "yrs.service      0.650569\n",
       "sex             -2.709958\n",
       "salary           0.714568\n",
       "dtype: float64"
      ]
     },
     "execution_count": 36,
     "metadata": {},
     "output_type": "execute_result"
    }
   ],
   "source": [
    "df.skew()"
   ]
  },
  {
   "cell_type": "markdown",
   "id": "e124cd77",
   "metadata": {},
   "source": [
    "Outcome of the skewness :- Skewness Threshold is taken as +/- 0.5..\n",
    "\n",
    "Columns having Skewness are -\n",
    "\n",
    "* Yrs.Service\n",
    "* Sex\n",
    "* Salary\n",
    "* Rank"
   ]
  },
  {
   "cell_type": "markdown",
   "id": "5f7677a9",
   "metadata": {},
   "source": [
    "# Normal distribution Curve"
   ]
  },
  {
   "cell_type": "code",
   "execution_count": 38,
   "id": "7e528c51",
   "metadata": {},
   "outputs": [
    {
     "data": {
      "text/plain": [
       "<seaborn.axisgrid.FacetGrid at 0x2b5df83bf40>"
      ]
     },
     "execution_count": 38,
     "metadata": {},
     "output_type": "execute_result"
    },
    {
     "data": {
      "image/png": "[encoded data removed]",
      "text/plain": [
       "<Figure size 360x360 with 1 Axes>"
      ]
     },
     "metadata": {
      "needs_background": "light"
     },
     "output_type": "display_data"
    }
   ],
   "source": [
    "sns.displot(df[\"rank\"])"
   ]
  },
  {
   "cell_type": "markdown",
   "id": "21f9ad70",
   "metadata": {},
   "source": [
    "The Data of the Column is Normal. Bt the curve is not Normal"
   ]
  },
  {
   "cell_type": "code",
   "execution_count": 39,
   "id": "b4a7873d",
   "metadata": {},
   "outputs": [
    {
     "data": {
      "text/plain": [
       "<seaborn.axisgrid.FacetGrid at 0x2b5df6f2ac0>"
      ]
     },
     "execution_count": 39,
     "metadata": {},
     "output_type": "execute_result"
    },
    {
     "data": {
      "image/png": "[encoded data removed]",
      "text/plain": [
       "<Figure size 360x360 with 1 Axes>"
      ]
     },
     "metadata": {
      "needs_background": "light"
     },
     "output_type": "display_data"
    }
   ],
   "source": [
    "sns.displot(df[\"yrs.service\"])"
   ]
  },
  {
   "cell_type": "markdown",
   "id": "0c7af2b4",
   "metadata": {},
   "source": [
    "The Data of the Column is Normal. Bt the curve is not Normal"
   ]
  },
  {
   "cell_type": "code",
   "execution_count": 40,
   "id": "36eaa874",
   "metadata": {},
   "outputs": [
    {
     "data": {
      "text/plain": [
       "<seaborn.axisgrid.FacetGrid at 0x2b5df88f730>"
      ]
     },
     "execution_count": 40,
     "metadata": {},
     "output_type": "execute_result"
    },
    {
     "data": {
      "image/png": "[encoded data removed]",
      "text/plain": [
       "<Figure size 360x360 with 1 Axes>"
      ]
     },
     "metadata": {
      "needs_background": "light"
     },
     "output_type": "display_data"
    }
   ],
   "source": [
    "sns.displot(df[\"sex\"])"
   ]
  },
  {
   "cell_type": "markdown",
   "id": "b9b7bfb8",
   "metadata": {},
   "source": [
    "The Data of the Column is Normal. Bt the curve is not Normal"
   ]
  },
  {
   "cell_type": "code",
   "execution_count": 41,
   "id": "0851d528",
   "metadata": {},
   "outputs": [
    {
     "data": {
      "text/plain": [
       "<seaborn.axisgrid.FacetGrid at 0x2b5e08f1e20>"
      ]
     },
     "execution_count": 41,
     "metadata": {},
     "output_type": "execute_result"
    },
    {
     "data": {
      "image/png": "[encoded data removed]",
      "text/plain": [
       "<Figure size 360x360 with 1 Axes>"
      ]
     },
     "metadata": {
      "needs_background": "light"
     },
     "output_type": "display_data"
    }
   ],
   "source": [
    "sns.displot(df[\"salary\"])"
   ]
  },
  {
   "cell_type": "markdown",
   "id": "cffc5920",
   "metadata": {},
   "source": [
    "The Data of the Column is Normal. Bt the curve is not Normal"
   ]
  },
  {
   "cell_type": "markdown",
   "id": "7c62c024",
   "metadata": {},
   "source": [
    "# The Normal distribution Shows that the data is Skewwed"
   ]
  },
  {
   "cell_type": "markdown",
   "id": "8bbe8a6e",
   "metadata": {},
   "source": [
    "# Data Cleaning"
   ]
  },
  {
   "cell_type": "code",
   "execution_count": 42,
   "id": "9be16c90",
   "metadata": {},
   "outputs": [
    {
     "data": {
      "text/plain": [
       "rank             0.522207\n",
       "discipline       0.156084\n",
       "yrs.since.phd    0.419231\n",
       "yrs.service      0.334745\n",
       "sex              0.138610\n",
       "salary           1.000000\n",
       "Name: salary, dtype: float64"
      ]
     },
     "execution_count": 42,
     "metadata": {},
     "output_type": "execute_result"
    }
   ],
   "source": [
    "df.corr()['salary']"
   ]
  },
  {
   "cell_type": "markdown",
   "id": "2f5c84a7",
   "metadata": {},
   "source": [
    "Here we are setting the Threshold of correlation as +/- 0.1.It is not standard.The Data set Demands it"
   ]
  },
  {
   "cell_type": "code",
   "execution_count": 43,
   "id": "6270c515",
   "metadata": {},
   "outputs": [
    {
     "data": {
      "text/html": [
       "<div>\n",
       "<style scoped>\n",
       "    .dataframe tbody tr th:only-of-type {\n",
       "        vertical-align: middle;\n",
       "    }\n",
       "\n",
       "    .dataframe tbody tr th {\n",
       "        vertical-align: top;\n",
       "    }\n",
       "\n",
       "    .dataframe thead th {\n",
       "        text-align: right;\n",
       "    }\n",
       "</style>\n",
       "<table border=\"1\" class=\"dataframe\">\n",
       "  <thead>\n",
       "    <tr style=\"text-align: right;\">\n",
       "      <th></th>\n",
       "      <th>rank</th>\n",
       "      <th>discipline</th>\n",
       "      <th>yrs.since.phd</th>\n",
       "      <th>yrs.service</th>\n",
       "      <th>salary</th>\n",
       "    </tr>\n",
       "  </thead>\n",
       "  <tbody>\n",
       "    <tr>\n",
       "      <th>0</th>\n",
       "      <td>2</td>\n",
       "      <td>1</td>\n",
       "      <td>19</td>\n",
       "      <td>18</td>\n",
       "      <td>139750</td>\n",
       "    </tr>\n",
       "    <tr>\n",
       "      <th>1</th>\n",
       "      <td>2</td>\n",
       "      <td>1</td>\n",
       "      <td>20</td>\n",
       "      <td>16</td>\n",
       "      <td>173200</td>\n",
       "    </tr>\n",
       "    <tr>\n",
       "      <th>2</th>\n",
       "      <td>1</td>\n",
       "      <td>1</td>\n",
       "      <td>4</td>\n",
       "      <td>3</td>\n",
       "      <td>79750</td>\n",
       "    </tr>\n",
       "    <tr>\n",
       "      <th>3</th>\n",
       "      <td>2</td>\n",
       "      <td>1</td>\n",
       "      <td>45</td>\n",
       "      <td>39</td>\n",
       "      <td>115000</td>\n",
       "    </tr>\n",
       "    <tr>\n",
       "      <th>4</th>\n",
       "      <td>2</td>\n",
       "      <td>1</td>\n",
       "      <td>40</td>\n",
       "      <td>41</td>\n",
       "      <td>141500</td>\n",
       "    </tr>\n",
       "    <tr>\n",
       "      <th>...</th>\n",
       "      <td>...</td>\n",
       "      <td>...</td>\n",
       "      <td>...</td>\n",
       "      <td>...</td>\n",
       "      <td>...</td>\n",
       "    </tr>\n",
       "    <tr>\n",
       "      <th>392</th>\n",
       "      <td>2</td>\n",
       "      <td>0</td>\n",
       "      <td>33</td>\n",
       "      <td>30</td>\n",
       "      <td>103106</td>\n",
       "    </tr>\n",
       "    <tr>\n",
       "      <th>393</th>\n",
       "      <td>2</td>\n",
       "      <td>0</td>\n",
       "      <td>31</td>\n",
       "      <td>19</td>\n",
       "      <td>150564</td>\n",
       "    </tr>\n",
       "    <tr>\n",
       "      <th>394</th>\n",
       "      <td>2</td>\n",
       "      <td>0</td>\n",
       "      <td>42</td>\n",
       "      <td>25</td>\n",
       "      <td>101738</td>\n",
       "    </tr>\n",
       "    <tr>\n",
       "      <th>395</th>\n",
       "      <td>2</td>\n",
       "      <td>0</td>\n",
       "      <td>25</td>\n",
       "      <td>15</td>\n",
       "      <td>95329</td>\n",
       "    </tr>\n",
       "    <tr>\n",
       "      <th>396</th>\n",
       "      <td>1</td>\n",
       "      <td>0</td>\n",
       "      <td>8</td>\n",
       "      <td>4</td>\n",
       "      <td>81035</td>\n",
       "    </tr>\n",
       "  </tbody>\n",
       "</table>\n",
       "<p>397 rows × 5 columns</p>\n",
       "</div>"
      ],
      "text/plain": [
       "     rank  discipline  yrs.since.phd  yrs.service  salary\n",
       "0       2           1             19           18  139750\n",
       "1       2           1             20           16  173200\n",
       "2       1           1              4            3   79750\n",
       "3       2           1             45           39  115000\n",
       "4       2           1             40           41  141500\n",
       "..    ...         ...            ...          ...     ...\n",
       "392     2           0             33           30  103106\n",
       "393     2           0             31           19  150564\n",
       "394     2           0             42           25  101738\n",
       "395     2           0             25           15   95329\n",
       "396     1           0              8            4   81035\n",
       "\n",
       "[397 rows x 5 columns]"
      ]
     },
     "execution_count": 43,
     "metadata": {},
     "output_type": "execute_result"
    }
   ],
   "source": [
    "df=df.drop([\"sex\"],axis=1)\n",
    "df"
   ]
  },
  {
   "cell_type": "markdown",
   "id": "a391d92e",
   "metadata": {},
   "source": [
    "Removing the Least Correlated Column from the Dataset"
   ]
  },
  {
   "cell_type": "markdown",
   "id": "e9d06467",
   "metadata": {},
   "source": [
    "# Removing Outliers"
   ]
  },
  {
   "cell_type": "markdown",
   "id": "bb4be348",
   "metadata": {},
   "source": [
    "IQR Proximity Rule\n",
    "\n",
    "Z - Score Technique"
   ]
  },
  {
   "cell_type": "code",
   "execution_count": 44,
   "id": "103b52bf",
   "metadata": {},
   "outputs": [
    {
     "data": {
      "text/plain": [
       "(397, 5)"
      ]
     },
     "execution_count": 44,
     "metadata": {},
     "output_type": "execute_result"
    }
   ],
   "source": [
    "from scipy.stats import zscore\n",
    "import numpy as np\n",
    "z=np.abs(zscore(df))\n",
    "z.shape"
   ]
  },
  {
   "cell_type": "code",
   "execution_count": 45,
   "id": "2567405b",
   "metadata": {},
   "outputs": [
    {
     "name": "stdout",
     "output_type": "stream",
     "text": [
      "(array([ 43, 131, 330, 364], dtype=int64), array([4, 3, 3, 4], dtype=int64))\n"
     ]
    }
   ],
   "source": [
    "threshold=3\n",
    "print(np.where(z>3))"
   ]
  },
  {
   "cell_type": "code",
   "execution_count": 46,
   "id": "9da92d4a",
   "metadata": {},
   "outputs": [
    {
     "data": {
      "text/plain": [
       "4"
      ]
     },
     "execution_count": 46,
     "metadata": {},
     "output_type": "execute_result"
    }
   ],
   "source": [
    "len(np.where(z>3)[0])"
   ]
  },
  {
   "cell_type": "code",
   "execution_count": 47,
   "id": "ded51ebf",
   "metadata": {},
   "outputs": [
    {
     "data": {
      "text/html": [
       "<div>\n",
       "<style scoped>\n",
       "    .dataframe tbody tr th:only-of-type {\n",
       "        vertical-align: middle;\n",
       "    }\n",
       "\n",
       "    .dataframe tbody tr th {\n",
       "        vertical-align: top;\n",
       "    }\n",
       "\n",
       "    .dataframe thead th {\n",
       "        text-align: right;\n",
       "    }\n",
       "</style>\n",
       "<table border=\"1\" class=\"dataframe\">\n",
       "  <thead>\n",
       "    <tr style=\"text-align: right;\">\n",
       "      <th></th>\n",
       "      <th>rank</th>\n",
       "      <th>discipline</th>\n",
       "      <th>yrs.since.phd</th>\n",
       "      <th>yrs.service</th>\n",
       "      <th>salary</th>\n",
       "    </tr>\n",
       "  </thead>\n",
       "  <tbody>\n",
       "    <tr>\n",
       "      <th>0</th>\n",
       "      <td>2</td>\n",
       "      <td>1</td>\n",
       "      <td>19</td>\n",
       "      <td>18</td>\n",
       "      <td>139750</td>\n",
       "    </tr>\n",
       "    <tr>\n",
       "      <th>1</th>\n",
       "      <td>2</td>\n",
       "      <td>1</td>\n",
       "      <td>20</td>\n",
       "      <td>16</td>\n",
       "      <td>173200</td>\n",
       "    </tr>\n",
       "    <tr>\n",
       "      <th>2</th>\n",
       "      <td>1</td>\n",
       "      <td>1</td>\n",
       "      <td>4</td>\n",
       "      <td>3</td>\n",
       "      <td>79750</td>\n",
       "    </tr>\n",
       "    <tr>\n",
       "      <th>3</th>\n",
       "      <td>2</td>\n",
       "      <td>1</td>\n",
       "      <td>45</td>\n",
       "      <td>39</td>\n",
       "      <td>115000</td>\n",
       "    </tr>\n",
       "    <tr>\n",
       "      <th>4</th>\n",
       "      <td>2</td>\n",
       "      <td>1</td>\n",
       "      <td>40</td>\n",
       "      <td>41</td>\n",
       "      <td>141500</td>\n",
       "    </tr>\n",
       "    <tr>\n",
       "      <th>...</th>\n",
       "      <td>...</td>\n",
       "      <td>...</td>\n",
       "      <td>...</td>\n",
       "      <td>...</td>\n",
       "      <td>...</td>\n",
       "    </tr>\n",
       "    <tr>\n",
       "      <th>392</th>\n",
       "      <td>2</td>\n",
       "      <td>0</td>\n",
       "      <td>33</td>\n",
       "      <td>30</td>\n",
       "      <td>103106</td>\n",
       "    </tr>\n",
       "    <tr>\n",
       "      <th>393</th>\n",
       "      <td>2</td>\n",
       "      <td>0</td>\n",
       "      <td>31</td>\n",
       "      <td>19</td>\n",
       "      <td>150564</td>\n",
       "    </tr>\n",
       "    <tr>\n",
       "      <th>394</th>\n",
       "      <td>2</td>\n",
       "      <td>0</td>\n",
       "      <td>42</td>\n",
       "      <td>25</td>\n",
       "      <td>101738</td>\n",
       "    </tr>\n",
       "    <tr>\n",
       "      <th>395</th>\n",
       "      <td>2</td>\n",
       "      <td>0</td>\n",
       "      <td>25</td>\n",
       "      <td>15</td>\n",
       "      <td>95329</td>\n",
       "    </tr>\n",
       "    <tr>\n",
       "      <th>396</th>\n",
       "      <td>1</td>\n",
       "      <td>0</td>\n",
       "      <td>8</td>\n",
       "      <td>4</td>\n",
       "      <td>81035</td>\n",
       "    </tr>\n",
       "  </tbody>\n",
       "</table>\n",
       "<p>393 rows × 5 columns</p>\n",
       "</div>"
      ],
      "text/plain": [
       "     rank  discipline  yrs.since.phd  yrs.service  salary\n",
       "0       2           1             19           18  139750\n",
       "1       2           1             20           16  173200\n",
       "2       1           1              4            3   79750\n",
       "3       2           1             45           39  115000\n",
       "4       2           1             40           41  141500\n",
       "..    ...         ...            ...          ...     ...\n",
       "392     2           0             33           30  103106\n",
       "393     2           0             31           19  150564\n",
       "394     2           0             42           25  101738\n",
       "395     2           0             25           15   95329\n",
       "396     1           0              8            4   81035\n",
       "\n",
       "[393 rows x 5 columns]"
      ]
     },
     "execution_count": 47,
     "metadata": {},
     "output_type": "execute_result"
    }
   ],
   "source": [
    "df.drop([43, 131, 330, 364],axis=0)"
   ]
  },
  {
   "cell_type": "code",
   "execution_count": 48,
   "id": "04dcf1ee",
   "metadata": {},
   "outputs": [],
   "source": [
    "df=df[(z<3).all(axis=1)]"
   ]
  },
  {
   "cell_type": "code",
   "execution_count": 49,
   "id": "b66dca3b",
   "metadata": {},
   "outputs": [
    {
     "data": {
      "text/html": [
       "<div>\n",
       "<style scoped>\n",
       "    .dataframe tbody tr th:only-of-type {\n",
       "        vertical-align: middle;\n",
       "    }\n",
       "\n",
       "    .dataframe tbody tr th {\n",
       "        vertical-align: top;\n",
       "    }\n",
       "\n",
       "    .dataframe thead th {\n",
       "        text-align: right;\n",
       "    }\n",
       "</style>\n",
       "<table border=\"1\" class=\"dataframe\">\n",
       "  <thead>\n",
       "    <tr style=\"text-align: right;\">\n",
       "      <th></th>\n",
       "      <th>rank</th>\n",
       "      <th>discipline</th>\n",
       "      <th>yrs.since.phd</th>\n",
       "      <th>yrs.service</th>\n",
       "      <th>salary</th>\n",
       "    </tr>\n",
       "  </thead>\n",
       "  <tbody>\n",
       "    <tr>\n",
       "      <th>0</th>\n",
       "      <td>2</td>\n",
       "      <td>1</td>\n",
       "      <td>19</td>\n",
       "      <td>18</td>\n",
       "      <td>139750</td>\n",
       "    </tr>\n",
       "    <tr>\n",
       "      <th>1</th>\n",
       "      <td>2</td>\n",
       "      <td>1</td>\n",
       "      <td>20</td>\n",
       "      <td>16</td>\n",
       "      <td>173200</td>\n",
       "    </tr>\n",
       "    <tr>\n",
       "      <th>2</th>\n",
       "      <td>1</td>\n",
       "      <td>1</td>\n",
       "      <td>4</td>\n",
       "      <td>3</td>\n",
       "      <td>79750</td>\n",
       "    </tr>\n",
       "    <tr>\n",
       "      <th>3</th>\n",
       "      <td>2</td>\n",
       "      <td>1</td>\n",
       "      <td>45</td>\n",
       "      <td>39</td>\n",
       "      <td>115000</td>\n",
       "    </tr>\n",
       "    <tr>\n",
       "      <th>4</th>\n",
       "      <td>2</td>\n",
       "      <td>1</td>\n",
       "      <td>40</td>\n",
       "      <td>41</td>\n",
       "      <td>141500</td>\n",
       "    </tr>\n",
       "    <tr>\n",
       "      <th>...</th>\n",
       "      <td>...</td>\n",
       "      <td>...</td>\n",
       "      <td>...</td>\n",
       "      <td>...</td>\n",
       "      <td>...</td>\n",
       "    </tr>\n",
       "    <tr>\n",
       "      <th>392</th>\n",
       "      <td>2</td>\n",
       "      <td>0</td>\n",
       "      <td>33</td>\n",
       "      <td>30</td>\n",
       "      <td>103106</td>\n",
       "    </tr>\n",
       "    <tr>\n",
       "      <th>393</th>\n",
       "      <td>2</td>\n",
       "      <td>0</td>\n",
       "      <td>31</td>\n",
       "      <td>19</td>\n",
       "      <td>150564</td>\n",
       "    </tr>\n",
       "    <tr>\n",
       "      <th>394</th>\n",
       "      <td>2</td>\n",
       "      <td>0</td>\n",
       "      <td>42</td>\n",
       "      <td>25</td>\n",
       "      <td>101738</td>\n",
       "    </tr>\n",
       "    <tr>\n",
       "      <th>395</th>\n",
       "      <td>2</td>\n",
       "      <td>0</td>\n",
       "      <td>25</td>\n",
       "      <td>15</td>\n",
       "      <td>95329</td>\n",
       "    </tr>\n",
       "    <tr>\n",
       "      <th>396</th>\n",
       "      <td>1</td>\n",
       "      <td>0</td>\n",
       "      <td>8</td>\n",
       "      <td>4</td>\n",
       "      <td>81035</td>\n",
       "    </tr>\n",
       "  </tbody>\n",
       "</table>\n",
       "<p>393 rows × 5 columns</p>\n",
       "</div>"
      ],
      "text/plain": [
       "     rank  discipline  yrs.since.phd  yrs.service  salary\n",
       "0       2           1             19           18  139750\n",
       "1       2           1             20           16  173200\n",
       "2       1           1              4            3   79750\n",
       "3       2           1             45           39  115000\n",
       "4       2           1             40           41  141500\n",
       "..    ...         ...            ...          ...     ...\n",
       "392     2           0             33           30  103106\n",
       "393     2           0             31           19  150564\n",
       "394     2           0             42           25  101738\n",
       "395     2           0             25           15   95329\n",
       "396     1           0              8            4   81035\n",
       "\n",
       "[393 rows x 5 columns]"
      ]
     },
     "execution_count": 49,
     "metadata": {},
     "output_type": "execute_result"
    }
   ],
   "source": [
    "df"
   ]
  },
  {
   "cell_type": "markdown",
   "id": "eecc5bf8",
   "metadata": {},
   "source": [
    "# Training the Model without Outliers"
   ]
  },
  {
   "cell_type": "code",
   "execution_count": 50,
   "id": "864977bd",
   "metadata": {},
   "outputs": [],
   "source": [
    "# independent Column\n",
    "x=df.iloc[:,:-1]\n",
    "# target\n",
    "y=df.iloc[:,-1]"
   ]
  },
  {
   "cell_type": "code",
   "execution_count": 51,
   "id": "652c787b",
   "metadata": {},
   "outputs": [
    {
     "data": {
      "text/html": [
       "<div>\n",
       "<style scoped>\n",
       "    .dataframe tbody tr th:only-of-type {\n",
       "        vertical-align: middle;\n",
       "    }\n",
       "\n",
       "    .dataframe tbody tr th {\n",
       "        vertical-align: top;\n",
       "    }\n",
       "\n",
       "    .dataframe thead th {\n",
       "        text-align: right;\n",
       "    }\n",
       "</style>\n",
       "<table border=\"1\" class=\"dataframe\">\n",
       "  <thead>\n",
       "    <tr style=\"text-align: right;\">\n",
       "      <th></th>\n",
       "      <th>rank</th>\n",
       "      <th>discipline</th>\n",
       "      <th>yrs.since.phd</th>\n",
       "      <th>yrs.service</th>\n",
       "    </tr>\n",
       "  </thead>\n",
       "  <tbody>\n",
       "    <tr>\n",
       "      <th>0</th>\n",
       "      <td>2</td>\n",
       "      <td>1</td>\n",
       "      <td>19</td>\n",
       "      <td>18</td>\n",
       "    </tr>\n",
       "    <tr>\n",
       "      <th>1</th>\n",
       "      <td>2</td>\n",
       "      <td>1</td>\n",
       "      <td>20</td>\n",
       "      <td>16</td>\n",
       "    </tr>\n",
       "    <tr>\n",
       "      <th>2</th>\n",
       "      <td>1</td>\n",
       "      <td>1</td>\n",
       "      <td>4</td>\n",
       "      <td>3</td>\n",
       "    </tr>\n",
       "    <tr>\n",
       "      <th>3</th>\n",
       "      <td>2</td>\n",
       "      <td>1</td>\n",
       "      <td>45</td>\n",
       "      <td>39</td>\n",
       "    </tr>\n",
       "    <tr>\n",
       "      <th>4</th>\n",
       "      <td>2</td>\n",
       "      <td>1</td>\n",
       "      <td>40</td>\n",
       "      <td>41</td>\n",
       "    </tr>\n",
       "  </tbody>\n",
       "</table>\n",
       "</div>"
      ],
      "text/plain": [
       "   rank  discipline  yrs.since.phd  yrs.service\n",
       "0     2           1             19           18\n",
       "1     2           1             20           16\n",
       "2     1           1              4            3\n",
       "3     2           1             45           39\n",
       "4     2           1             40           41"
      ]
     },
     "execution_count": 51,
     "metadata": {},
     "output_type": "execute_result"
    }
   ],
   "source": [
    "x.head()"
   ]
  },
  {
   "cell_type": "code",
   "execution_count": 52,
   "id": "6397a4e3",
   "metadata": {},
   "outputs": [
    {
     "data": {
      "text/plain": [
       "0    139750\n",
       "1    173200\n",
       "2     79750\n",
       "3    115000\n",
       "4    141500\n",
       "Name: salary, dtype: int64"
      ]
     },
     "execution_count": 52,
     "metadata": {},
     "output_type": "execute_result"
    }
   ],
   "source": [
    "y.head()"
   ]
  },
  {
   "cell_type": "code",
   "execution_count": 53,
   "id": "48ee2c9c",
   "metadata": {},
   "outputs": [
    {
     "data": {
      "text/plain": [
       "(393, 4)"
      ]
     },
     "execution_count": 53,
     "metadata": {},
     "output_type": "execute_result"
    }
   ],
   "source": [
    "x.shape"
   ]
  },
  {
   "cell_type": "code",
   "execution_count": 54,
   "id": "8e6e30c1",
   "metadata": {},
   "outputs": [
    {
     "data": {
      "text/plain": [
       "(393,)"
      ]
     },
     "execution_count": 54,
     "metadata": {},
     "output_type": "execute_result"
    }
   ],
   "source": [
    "y.shape"
   ]
  },
  {
   "cell_type": "markdown",
   "id": "82cdb7c1",
   "metadata": {},
   "source": [
    "# Transforming Data To Remove Skewness"
   ]
  },
  {
   "cell_type": "code",
   "execution_count": 55,
   "id": "ef2ea1ce",
   "metadata": {},
   "outputs": [],
   "source": [
    "from sklearn.preprocessing import power_transform\n",
    "x=power_transform(x,method='yeo-johnson')"
   ]
  },
  {
   "cell_type": "code",
   "execution_count": 56,
   "id": "bdd7c617",
   "metadata": {},
   "outputs": [
    {
     "data": {
      "text/plain": [
       "array([[ 0.69481738,  0.91457564, -0.11344983,  0.26888583],\n",
       "       [ 0.69481738,  0.91457564, -0.03455335,  0.1209006 ],\n",
       "       [-1.0753989 ,  0.91457564, -1.6242611 , -1.28449532],\n",
       "       ...,\n",
       "       [ 0.69481738, -1.09340328,  1.42772852,  0.72581897],\n",
       "       [ 0.69481738, -1.09340328,  0.33874878,  0.04312953],\n",
       "       [-1.0753989 , -1.09340328, -1.12908354, -1.11979784]])"
      ]
     },
     "execution_count": 56,
     "metadata": {},
     "output_type": "execute_result"
    }
   ],
   "source": [
    "x"
   ]
  },
  {
   "cell_type": "code",
   "execution_count": 57,
   "id": "8dea1b8f",
   "metadata": {},
   "outputs": [
    {
     "data": {
      "text/plain": [
       "array([[ 0.69481738,  0.91457564, -0.11344983,  0.26888583],\n",
       "       [ 0.69481738,  0.91457564, -0.03455335,  0.1209006 ],\n",
       "       [-1.0753989 ,  0.91457564, -1.6242611 , -1.28449532],\n",
       "       ...,\n",
       "       [ 0.69481738, -1.09340328,  1.42772852,  0.72581897],\n",
       "       [ 0.69481738, -1.09340328,  0.33874878,  0.04312953],\n",
       "       [-1.0753989 , -1.09340328, -1.12908354, -1.11979784]])"
      ]
     },
     "execution_count": 57,
     "metadata": {},
     "output_type": "execute_result"
    }
   ],
   "source": [
    "from sklearn.preprocessing import StandardScaler\n",
    "sc=StandardScaler()\n",
    "x=sc.fit_transform(x)\n",
    "x"
   ]
  },
  {
   "cell_type": "markdown",
   "id": "8b72fd93",
   "metadata": {},
   "source": [
    "# Since the Outcome is a Salary Value we will use Binary Regression Model"
   ]
  },
  {
   "cell_type": "code",
   "execution_count": 58,
   "id": "69fbaebf",
   "metadata": {},
   "outputs": [],
   "source": [
    "from sklearn.model_selection import train_test_split\n",
    "from sklearn.metrics import mean_absolute_error,mean_squared_error\n",
    "from sklearn.metrics import r2_score"
   ]
  },
  {
   "cell_type": "markdown",
   "id": "9eba247b",
   "metadata": {},
   "source": [
    "Importing ML Alogoritm Models"
   ]
  },
  {
   "cell_type": "code",
   "execution_count": 60,
   "id": "6d2e40eb",
   "metadata": {},
   "outputs": [],
   "source": [
    "from sklearn.tree import DecisionTreeRegressor\n",
    "from sklearn.neighbors import KNeighborsRegressor\n",
    "from sklearn.svm import SVR\n",
    "from sklearn.linear_model import LinearRegression"
   ]
  },
  {
   "cell_type": "markdown",
   "id": "c8ce3237",
   "metadata": {},
   "source": [
    "Training And Splitting Data For Model Training"
   ]
  },
  {
   "cell_type": "code",
   "execution_count": 61,
   "id": "8f01c2e2",
   "metadata": {},
   "outputs": [],
   "source": [
    "x_train,x_test,y_train,y_test=train_test_split(x,y,test_size=.33,random_state=44)"
   ]
  },
  {
   "cell_type": "code",
   "execution_count": 62,
   "id": "0010bd42",
   "metadata": {},
   "outputs": [
    {
     "data": {
      "text/plain": [
       "(263, 4)"
      ]
     },
     "execution_count": 62,
     "metadata": {},
     "output_type": "execute_result"
    }
   ],
   "source": [
    "x_train.shape"
   ]
  },
  {
   "cell_type": "code",
   "execution_count": 63,
   "id": "55ef571a",
   "metadata": {},
   "outputs": [
    {
     "data": {
      "text/plain": [
       "(263,)"
      ]
     },
     "execution_count": 63,
     "metadata": {},
     "output_type": "execute_result"
    }
   ],
   "source": [
    "y_train.shape"
   ]
  },
  {
   "cell_type": "code",
   "execution_count": 64,
   "id": "5bf9a6e5",
   "metadata": {},
   "outputs": [
    {
     "data": {
      "text/plain": [
       "(130, 4)"
      ]
     },
     "execution_count": 64,
     "metadata": {},
     "output_type": "execute_result"
    }
   ],
   "source": [
    "x_test.shape"
   ]
  },
  {
   "cell_type": "code",
   "execution_count": 65,
   "id": "69b71bbf",
   "metadata": {},
   "outputs": [
    {
     "data": {
      "text/plain": [
       "(130,)"
      ]
     },
     "execution_count": 65,
     "metadata": {},
     "output_type": "execute_result"
    }
   ],
   "source": [
    "y_test.shape"
   ]
  },
  {
   "cell_type": "markdown",
   "id": "399ee290",
   "metadata": {},
   "source": [
    "# Linear Regression Model"
   ]
  },
  {
   "cell_type": "code",
   "execution_count": 66,
   "id": "7e954b57",
   "metadata": {},
   "outputs": [
    {
     "data": {
      "text/plain": [
       "LinearRegression()"
      ]
     },
     "execution_count": 66,
     "metadata": {},
     "output_type": "execute_result"
    }
   ],
   "source": [
    "lr=LinearRegression()\n",
    "lr.fit(x_train,y_train)"
   ]
  },
  {
   "cell_type": "code",
   "execution_count": 67,
   "id": "cc0efcba",
   "metadata": {},
   "outputs": [
    {
     "data": {
      "text/plain": [
       "112839.40179072611"
      ]
     },
     "execution_count": 67,
     "metadata": {},
     "output_type": "execute_result"
    }
   ],
   "source": [
    "lr.intercept_"
   ]
  },
  {
   "cell_type": "code",
   "execution_count": 68,
   "id": "dcf5f53c",
   "metadata": {},
   "outputs": [
    {
     "data": {
      "text/plain": [
       "array([14241.76776736,  6978.54812995, 12180.82193579, -7689.75780259])"
      ]
     },
     "execution_count": 68,
     "metadata": {},
     "output_type": "execute_result"
    }
   ],
   "source": [
    "lr.coef_"
   ]
  },
  {
   "cell_type": "code",
   "execution_count": 69,
   "id": "74d5c684",
   "metadata": {},
   "outputs": [
    {
     "data": {
      "text/plain": [
       "0.4204152826193812"
      ]
     },
     "execution_count": 69,
     "metadata": {},
     "output_type": "execute_result"
    }
   ],
   "source": [
    "lr.score(x_train,y_train)"
   ]
  },
  {
   "cell_type": "code",
   "execution_count": 70,
   "id": "44b6de1c",
   "metadata": {},
   "outputs": [
    {
     "name": "stdout",
     "output_type": "stream",
     "text": [
      "predicted result  [ 98660.49854297 122745.45431642 120017.14227901 120930.49968588\n",
      " 122307.03378758  77745.00228981 124243.98745894 131140.39775115\n",
      " 118336.03094152 141249.75575326 122281.53728825 135300.57872282\n",
      "  86017.74538706 137618.31213832  78333.32546972 124686.63816906\n",
      " 129796.59364088 111851.62221159  92202.63141463 125557.83498782\n",
      " 127662.10611799 114320.75929156  76603.54495917 137307.32570581\n",
      "  89095.41830567  94508.89463673  84616.89763982 132369.68017917\n",
      " 124686.63816906 134015.16272069 126832.20877991 112398.73136915\n",
      " 131497.28333863 115749.42363004  81440.04749472 121644.54289378\n",
      " 110889.92438091  95464.47413812  92732.36941345 112615.90714013\n",
      "  89095.41830567 117636.33194171 123746.70808938 126913.99700675\n",
      " 114044.86512326  97840.24951627 103280.71647619 129286.27215546\n",
      " 131497.28333863 115749.42363004 120903.42563648 122718.55227001\n",
      " 117195.03663851 112027.33521957 122381.75322302 124596.8109586\n",
      "  88331.77650926 124243.98745894 125966.20610981 132744.03847949\n",
      "  93998.85316761 120204.44041792 128861.24567908 125124.51984159\n",
      " 137464.24773547  92460.87252956 128544.4357485  119444.32075712\n",
      " 133460.71783459 120568.21605968 130632.67054922 118731.26097497\n",
      " 124993.78429758 109508.27675655  83370.02961041 131497.28333863\n",
      " 118197.88445078 135247.94811974  79931.6576373  125557.83498782\n",
      " 101325.00072014  83182.10006795 132911.8226213   88431.93382573\n",
      " 137094.85961005 125503.54143778 131649.10944623 111001.60144876\n",
      " 116219.15564588  99823.79630748 122986.96347501  80707.28458971\n",
      "  91164.94888738  86130.44611462  99671.87366158 134237.77997255\n",
      " 120348.29380145 136090.61889316  89095.41830567 100114.91183959\n",
      "  81440.04749472 132061.09718374 126994.33476913 120182.3550533\n",
      "  83236.2692477  123684.11382422 128880.23088708  86017.74538706\n",
      " 134514.34192473 113480.76194333 120929.04164082  83912.34528295\n",
      " 119239.91175238  73439.76545441 117752.36109234 125124.51984159\n",
      " 125838.40103958  95452.82499924 120002.38521617 128041.13814941\n",
      " 137730.28587614  90935.54785002 128477.58503845  89423.02095849\n",
      " 132369.68017917  95708.97863502  87829.419061   125707.40021943\n",
      " 118110.83446468  81440.04749472]\n",
      "actual result 79      84240\n",
      "159    137167\n",
      "301    127100\n",
      "295     97150\n",
      "304    144050\n",
      "        ...  \n",
      "55      83900\n",
      "89     107008\n",
      "356     88709\n",
      "291    168500\n",
      "112     72500\n",
      "Name: salary, Length: 130, dtype: int64\n"
     ]
    }
   ],
   "source": [
    "pred=lr.predict(x_test)\n",
    "print(\"predicted result \",pred)\n",
    "print('actual result',y_test)"
   ]
  },
  {
   "cell_type": "code",
   "execution_count": 71,
   "id": "7748ad27",
   "metadata": {},
   "outputs": [
    {
     "name": "stdout",
     "output_type": "stream",
     "text": [
      "Error:\n",
      "Mean Absolute Error : 17769.8453972219\n",
      "Mean Squared Error : 498902872.08803874\n",
      "Root mean Squared Error 22336.1337766418\n",
      "r2 score : 0.42061352004802344\n"
     ]
    }
   ],
   "source": [
    "print('Error:')\n",
    "print('Mean Absolute Error :',mean_absolute_error(y_test,pred))\n",
    "print('Mean Squared Error :',mean_squared_error(y_test,pred))\n",
    "print('Root mean Squared Error',np.sqrt(mean_squared_error(y_test,pred)))\n",
    "print('r2 score :',r2_score(y_test,pred))"
   ]
  },
  {
   "cell_type": "markdown",
   "id": "1aae557e",
   "metadata": {},
   "source": [
    "# Decission Tree Model"
   ]
  },
  {
   "cell_type": "code",
   "execution_count": 72,
   "id": "d1723ed1",
   "metadata": {},
   "outputs": [
    {
     "data": {
      "text/plain": [
       "0.962970523175513"
      ]
     },
     "execution_count": 72,
     "metadata": {},
     "output_type": "execute_result"
    }
   ],
   "source": [
    "dtr=DecisionTreeRegressor()\n",
    "dtr.fit(x_train,y_train)\n",
    "dtr.score(x_train,y_train)"
   ]
  },
  {
   "cell_type": "code",
   "execution_count": 73,
   "id": "c163caa2",
   "metadata": {},
   "outputs": [
    {
     "name": "stdout",
     "output_type": "stream",
     "text": [
      "predicted result  [ 88825.   150917.    81700.   127257.5   67559.    74830.   111512.\n",
      " 101000.   125192.    57800.   204000.   146856.    78500.   150743.\n",
      "  83850.   130925.   107500.   103700.    90971.   121466.5  140096.\n",
      " 113068.    74830.   165000.   113600.   105350.    97000.   140310.\n",
      " 130925.   175000.   134778.    96938.   181257.   115800.    72750.\n",
      "  67559.   104350.    80225.    92350.   126882.   113600.   134690.\n",
      " 174500.   168635.   148800.    95611.    79858.   145098.   181257.\n",
      " 115800.   101036.   109954.    93000.   148800.   131950.   130664.\n",
      "  70700.   111512.    57800.   140310.    83558.25 127257.5  117704.\n",
      " 130664.   189409.   105350.   116518.   106294.   145098.   101036.\n",
      " 181257.   102600.    57800.    79858.    77517.5  181257.   121200.\n",
      " 161101.   100102.   121466.5   92000.    71350.   161101.    70700.\n",
      "  96545.   166605.   145098.    88175.   109646.    86250.    67559.\n",
      "  74000.    70768.   100938.    92000.   165000.   131950.   101299.\n",
      " 113600.    79858.    72750.   145098.   166605.   146800.    72750.\n",
      " 111512.   119015.    78500.   146500.   115435.   107550.   108413.\n",
      "  92050.    63100.   118021.5  130664.   174500.    70768.   151292.\n",
      " 156938.   175000.    71065.   156938.   103750.   140310.   107150.\n",
      " 113600.    77202.   102914.    72750.  ]\n",
      "actual result 79      84240\n",
      "159    137167\n",
      "301    127100\n",
      "295     97150\n",
      "304    144050\n",
      "        ...  \n",
      "55      83900\n",
      "89     107008\n",
      "356     88709\n",
      "291    168500\n",
      "112     72500\n",
      "Name: salary, Length: 130, dtype: int64\n"
     ]
    }
   ],
   "source": [
    "predr=dtr.predict(x_test)\n",
    "print(\"predicted result \",predr)\n",
    "print('actual result',y_test)"
   ]
  },
  {
   "cell_type": "code",
   "execution_count": 74,
   "id": "15557bde",
   "metadata": {},
   "outputs": [
    {
     "name": "stdout",
     "output_type": "stream",
     "text": [
      "Error:\n",
      "Mean Absolute Error : 23695.201923076922\n",
      "Mean Squared Error : 1049843057.23125\n",
      "Root mean Squared Error 32401.281722043805\n",
      "r2 score : -0.21920499452225672\n"
     ]
    }
   ],
   "source": [
    "print('Error:')\n",
    "print('Mean Absolute Error :',mean_absolute_error(y_test,predr))\n",
    "print('Mean Squared Error :',mean_squared_error(y_test,predr))\n",
    "print('Root mean Squared Error',np.sqrt(mean_squared_error(y_test,predr)))\n",
    "print('r2 score :',r2_score(y_test,predr))"
   ]
  },
  {
   "cell_type": "markdown",
   "id": "c231e783",
   "metadata": {},
   "source": [
    "# K- Nieghbour Regression Model"
   ]
  },
  {
   "cell_type": "code",
   "execution_count": 75,
   "id": "34e32871",
   "metadata": {},
   "outputs": [
    {
     "data": {
      "text/plain": [
       "0.6281454619934101"
      ]
     },
     "execution_count": 75,
     "metadata": {},
     "output_type": "execute_result"
    }
   ],
   "source": [
    "knr=KNeighborsRegressor(n_neighbors=5)\n",
    "knr.fit(x_train,y_train)\n",
    "knr.score(x_train,y_train)"
   ]
  },
  {
   "cell_type": "code",
   "execution_count": 76,
   "id": "b33414fb",
   "metadata": {},
   "outputs": [
    {
     "name": "stdout",
     "output_type": "stream",
     "text": [
      "predicted result  [ 83127.2 141054.2 100745.8 126444.8 102790.6  88830.6 135919.  148814.\n",
      " 115670.4 118123.  117767.8 118123.   76267.  124101.6  89180.8 121765.2\n",
      " 117704.4 104917.   89554.2 127340.8 135748.  104448.8  88830.6 142365.6\n",
      "  98955.2  99812.4 102466.4 127161.2 121765.2 144165.8 130551.2 101749.8\n",
      " 150877.8 126635.8  73700.  102790.6 112972.   84259.4  89830.  122978.6\n",
      "  98955.2 109711.8 121908.2 145216.  112673.6 101235.   79370.2 153674.2\n",
      " 150877.8 126635.8 127260.2 109584.2 108730.  114265.  124363.8 127089.4\n",
      "  73160.  135919.   94143.4 132623.   83322.4 116774.8 147470.2 124199.4\n",
      " 125163.  100862.4 127047.2 110750.4 125027.  110130.6 146397.8 117255.8\n",
      "  94143.4  88386.6  76267.  150877.8 126624.4 146254.   89000.4 127340.8\n",
      "  83770.   75247.  155391.6  76277.  132795.6 154320.8 155079.6 117039.2\n",
      " 114233.6 106144.2 102790.6  78907.   85095.8  96422.8  85404.  140614.6\n",
      " 113246.  101041.8  98955.2  79370.2  73700.  155079.6 157935.  110168.8\n",
      "  74000.  127922.2 138485.   76267.  122915.2 112972.  102790.6  85278.6\n",
      " 110750.4  78174.4 128480.6 124199.4 133096.6  85076.8 119969.6 134060.\n",
      " 157034.6 100473.8 134060.   97236.4 127161.2 104253.   98928.2 102790.6\n",
      " 108995.4  73700. ]\n",
      "actual result 79      84240\n",
      "159    137167\n",
      "301    127100\n",
      "295     97150\n",
      "304    144050\n",
      "        ...  \n",
      "55      83900\n",
      "89     107008\n",
      "356     88709\n",
      "291    168500\n",
      "112     72500\n",
      "Name: salary, Length: 130, dtype: int64\n"
     ]
    }
   ],
   "source": [
    "predknr=knr.predict(x_test)\n",
    "print(\"predicted result \",predknr)\n",
    "print('actual result',y_test)"
   ]
  },
  {
   "cell_type": "code",
   "execution_count": 77,
   "id": "a44c17ac",
   "metadata": {},
   "outputs": [
    {
     "name": "stdout",
     "output_type": "stream",
     "text": [
      "Error:\n",
      "Mean Absolute Error : 16653.35230769231\n",
      "Mean Squared Error : 523929761.4852308\n",
      "Root mean Squared Error 22889.51204122165\n",
      "r2 score : 0.39154926292859804\n"
     ]
    }
   ],
   "source": [
    "print('Error:')\n",
    "print('Mean Absolute Error :',mean_absolute_error(y_test,predknr))\n",
    "print('Mean Squared Error :',mean_squared_error(y_test,predknr))\n",
    "print('Root mean Squared Error',np.sqrt(mean_squared_error(y_test,predknr)))\n",
    "print('r2 score :',r2_score(y_test,predknr))"
   ]
  },
  {
   "cell_type": "markdown",
   "id": "c179a171",
   "metadata": {},
   "source": [
    "# Support Vector Regression Model"
   ]
  },
  {
   "cell_type": "markdown",
   "id": "30ca465c",
   "metadata": {},
   "source": [
    "KERNEL = RBF"
   ]
  },
  {
   "cell_type": "code",
   "execution_count": 78,
   "id": "60586607",
   "metadata": {},
   "outputs": [
    {
     "data": {
      "text/plain": [
       "-0.028991197007036007"
      ]
     },
     "execution_count": 78,
     "metadata": {},
     "output_type": "execute_result"
    }
   ],
   "source": [
    "svr=SVR(kernel='rbf')\n",
    "svr.fit(x_train,y_train)\n",
    "svr.score(x_train,y_train)"
   ]
  },
  {
   "cell_type": "markdown",
   "id": "c533e2cb",
   "metadata": {},
   "source": [
    "KERNEL = POLY"
   ]
  },
  {
   "cell_type": "code",
   "execution_count": 79,
   "id": "f27ed9d9",
   "metadata": {},
   "outputs": [
    {
     "data": {
      "text/plain": [
       "-0.028653310073450733"
      ]
     },
     "execution_count": 79,
     "metadata": {},
     "output_type": "execute_result"
    }
   ],
   "source": [
    "svp=SVR(kernel='poly')\n",
    "svp.fit(x_train,y_train)\n",
    "svp.score(x_train,y_train)"
   ]
  },
  {
   "cell_type": "markdown",
   "id": "0cfe8450",
   "metadata": {},
   "source": [
    "KERNEL = LINEAR"
   ]
  },
  {
   "cell_type": "code",
   "execution_count": 80,
   "id": "43083162",
   "metadata": {},
   "outputs": [
    {
     "data": {
      "text/plain": [
       "-0.028653310073450733"
      ]
     },
     "execution_count": 80,
     "metadata": {},
     "output_type": "execute_result"
    }
   ],
   "source": [
    "svl=SVR(kernel='poly')\n",
    "svl.fit(x_train,y_train)\n",
    "svl.score(x_train,y_train)"
   ]
  },
  {
   "cell_type": "markdown",
   "id": "464a8287",
   "metadata": {},
   "source": [
    "Since the model score of all the Kernel of the model are in negative we dont move further with this model"
   ]
  },
  {
   "cell_type": "markdown",
   "id": "60d85dcc",
   "metadata": {},
   "source": [
    "# Cross Validation Score"
   ]
  },
  {
   "cell_type": "code",
   "execution_count": 82,
   "id": "3450eee5",
   "metadata": {},
   "outputs": [
    {
     "name": "stdout",
     "output_type": "stream",
     "text": [
      "Cross_Validation_score of LinearRegression() is\n",
      "[0.32068983 0.51823966 0.41472994 0.40814311 0.24836014 0.36247348]\n",
      "0.3787726919349539\n",
      "0.08391791484158787\n",
      "\n",
      "\n",
      "Cross_Validation_score of DecisionTreeRegressor() is\n",
      "[-0.00801914  0.22979659  0.25668686 -0.18028072 -0.00135246 -0.51310568]\n",
      "-0.03604575862308682\n",
      "0.26036626297134796\n",
      "\n",
      "\n",
      "Cross_Validation_score of KNeighborsRegressor() is\n",
      "[0.29392768 0.43878182 0.47674851 0.38114478 0.31459909 0.27711337]\n",
      "0.36371920887320486\n",
      "0.07471934494141944\n",
      "\n",
      "\n",
      "Cross_Validation_score of SVR() is\n",
      "[-0.00119103 -0.00313292 -0.1245667  -0.01696764 -0.05204068 -0.22520958]\n",
      "-0.070518090707401\n",
      "0.08104193887325291\n",
      "\n",
      "\n"
     ]
    }
   ],
   "source": [
    "from sklearn.model_selection import cross_val_score\n",
    "j=[lr,dtr,knr,svr]\n",
    "for n in j:\n",
    "  print('Cross_Validation_score of',n,'is')\n",
    "  score=cross_val_score(n,x,y,cv=6)\n",
    "  print(score)\n",
    "  print(score.mean())\n",
    "  print(score.std())\n",
    "  print('\\n')"
   ]
  },
  {
   "cell_type": "code",
   "execution_count": 83,
   "id": "250dc75d",
   "metadata": {},
   "outputs": [
    {
     "name": "stdout",
     "output_type": "stream",
     "text": [
      "K_Fold LinearRegression() is\n",
      "[0.24849052 0.57491121 0.41012385 0.26059421 0.31281385]\n",
      "0.3613867271274098\n",
      "0.12102232863596529\n",
      "\n",
      "\n",
      "K_Fold DecisionTreeRegressor() is\n",
      "[-0.32685323  0.2684247   0.06890776 -0.11496234 -0.5586817 ]\n",
      "-0.13263295975700184\n",
      "0.2901782893579827\n",
      "\n",
      "\n",
      "K_Fold KNeighborsRegressor() is\n",
      "[0.11313965 0.59811954 0.40137383 0.27563485 0.28285208]\n",
      "0.3342239876516308\n",
      "0.1606860336749838\n",
      "\n",
      "\n",
      "K_Fold SVR() is\n",
      "[ 0.00158844 -0.00698975 -0.12816237 -0.00413057 -0.2510532 ]\n",
      "-0.07774949026333819\n",
      "0.0992943385367589\n",
      "\n",
      "\n"
     ]
    }
   ],
   "source": [
    "from sklearn.model_selection import KFold\n",
    "j=[lr,dtr,knr,svr]\n",
    "for n in j:\n",
    "  print('K_Fold',n,'is')\n",
    "  Kfold=KFold(5)\n",
    "  score=cross_val_score(n,x,y,cv=Kfold)\n",
    "  print(score)\n",
    "  print(score.mean())\n",
    "  print(score.std())\n",
    "  print('\\n')"
   ]
  },
  {
   "cell_type": "markdown",
   "id": "68ffc47e",
   "metadata": {},
   "source": [
    "# Saving The Best Model"
   ]
  },
  {
   "cell_type": "code",
   "execution_count": 84,
   "id": "676475fe",
   "metadata": {},
   "outputs": [
    {
     "data": {
      "text/plain": [
       "['Knr_File_Salary_Report.obj']"
      ]
     },
     "execution_count": 84,
     "metadata": {},
     "output_type": "execute_result"
    }
   ],
   "source": [
    "import joblib\n",
    "joblib.dump(knr,'Knr_File_Salary_Report.obj')"
   ]
  },
  {
   "cell_type": "code",
   "execution_count": null,
   "id": "f69be120",
   "metadata": {},
   "outputs": [],
   "source": []
  }
 ],
 "metadata": {
  "kernelspec": {
   "display_name": "Python 3 (ipykernel)",
   "language": "python",
   "name": "python3"
  },
  "language_info": {
   "codemirror_mode": {
    "name": "ipython",
    "version": 3
   },
   "file_extension": ".py",
   "mimetype": "text/x-python",
   "name": "python",
   "nbconvert_exporter": "python",
   "pygments_lexer": "ipython3",
   "version": "3.9.12"
  }
 },
 "nbformat": 4,
 "nbformat_minor": 5
}
